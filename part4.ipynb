{
 "cells": [
  {
   "cell_type": "code",
   "execution_count": 1,
   "metadata": {
    "collapsed": true
   },
   "outputs": [],
   "source": [
    "# coding: utf-8\n",
    "\n",
    "import collections\n",
    "import MeCab\n",
    "import pickle"
   ]
  },
  {
   "cell_type": "code",
   "execution_count": 7,
   "metadata": {
    "collapsed": false
   },
   "outputs": [
    {
     "name": "stdout",
     "output_type": "stream",
     "text": [
      "vocab size, fr=9716\n",
      "vocab size, fr=4859\n"
     ]
    }
   ],
   "source": [
    "vocab_en, _ = pickle.load(open('data/vocab.dict', 'rb')).values()\n",
    "w2i_en, _ = pickle.load(open('data/w2i.dict', 'rb')).values()\n",
    "i2w_en, _ = pickle.load(open('data/i2w.dict', 'rb')).values()\n",
    "\n",
    "tagger = MeCab.Tagger()\n",
    "vocab_fr = collections.Counter()\n",
    "\n",
    "with open('data/text.base.fr', 'r') as istream:\n",
    "    with open('data/text.mecab.fr', 'w') as ostream:\n",
    "        for line in istream:\n",
    "            line = line.replace(' ','')\n",
    "            toks = tagger.parse(line).split('\\n')\n",
    "            toks = [tok.split('\\t')[0] for tok in toks]\n",
    "            for tok in toks:\n",
    "                if tok:\n",
    "                    vocab_fr[tok.encode('utf8')] += 1\n",
    "            toks = ' '.join(toks[:-2])\n",
    "            ostream.write(toks + '\\n')\n",
    "\n",
    "vocab_fr_by_freq = [tok for tok,cnt in vocab_fr.most_common() if not tok == b'EOS']\n",
    "print(\"vocab size, fr={0:d}\".format(len(vocab_fr_by_freq)+4))\n",
    "w2i_fr = {b'_PAD': 0, b'_GO': 1, b'_EOS': 2, b'_UNK': 3}\n",
    "w2i_fr.update(zip(vocab_fr_by_freq, range(4,len(vocab_fr_by_freq)+4)))\n",
    "i2w_fr = {v: k for k,v in w2i_fr.items()}\n",
    "vocab = {'en': vocab_en, 'fr': dict(vocab_fr)}\n",
    "w2i   = {'en': w2i_en, 'fr': dict(w2i_fr)}\n",
    "i2w   = {'en': i2w_en, 'fr': dict(i2w_fr)}\n",
    "pickle.dump(vocab, open('data/vocab.mecab.dict', 'wb'))\n",
    "pickle.dump(w2i, open('data/w2i.mecab.dict', 'wb'))\n",
    "pickle.dump(i2w, open('data/i2w.mecab.dict', 'wb'))\n",
    "\n",
    "vocab_fr_by_freq = vocab_fr_by_freq[:len(vocab_fr_by_freq)//2-1]\n",
    "print(\"vocab size, fr={0:d}\".format(len(vocab_fr_by_freq)+4))\n",
    "w2i_fr = {b'_PAD': 0, b'_GO': 1, b'_EOS': 2, b'_UNK': 3}\n",
    "w2i_fr.update(zip(vocab_fr_by_freq, range(4,len(vocab_fr_by_freq)+4)))\n",
    "i2w_fr = {v: k for k,v in w2i_fr.items()}\n",
    "vocab = {'en': vocab_en, 'fr': dict(vocab_fr)}\n",
    "w2i   = {'en': w2i_en, 'fr': dict(w2i_fr)}\n",
    "i2w   = {'en': i2w_en, 'fr': dict(i2w_fr)}\n",
    "pickle.dump(vocab, open('data/vocab.mecab.unk.dict', 'wb'))\n",
    "pickle.dump(w2i, open('data/w2i.mecab.unk.dict', 'wb'))\n",
    "pickle.dump(i2w, open('data/i2w.mecab.unk.dict', 'wb'))"
   ]
  },
  {
   "cell_type": "code",
   "execution_count": null,
   "metadata": {
    "collapsed": true
   },
   "outputs": [],
   "source": []
  }
 ],
 "metadata": {
  "kernelspec": {
   "display_name": "Python 3",
   "language": "python",
   "name": "python3"
  },
  "language_info": {
   "codemirror_mode": {
    "name": "ipython",
    "version": 3
   },
   "file_extension": ".py",
   "mimetype": "text/x-python",
   "name": "python",
   "nbconvert_exporter": "python",
   "pygments_lexer": "ipython3",
   "version": "3.6.0"
  }
 },
 "nbformat": 4,
 "nbformat_minor": 2
}
